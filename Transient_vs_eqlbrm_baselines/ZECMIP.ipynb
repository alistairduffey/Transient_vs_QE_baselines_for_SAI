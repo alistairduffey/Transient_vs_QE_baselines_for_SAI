{
 "cells": [
  {
   "cell_type": "code",
   "execution_count": 1,
   "id": "5d94a7be-164a-46dd-99d9-1e49a6eb7286",
   "metadata": {},
   "outputs": [],
   "source": [
    "\n",
    "\n",
    "import matplotlib.pyplot as plt\n",
    "import numpy as np\n",
    "import xarray as xr\n",
    "import os\n",
    "import glob\n",
    "import matplotlib.pyplot as plt\n",
    "import cartopy.crs as ccrs\n",
    "import cartopy.feature as cfeature\n",
    "import pandas as pd\n",
    "import iris\n",
    "import iris.quickplot as qplt\n",
    "import iris.plot as iplt\n",
    "import json\n",
    "import cftime\n",
    "from itertools import product\n",
    "from cftime import DatetimeNoLeap\n",
    "import esmvalcore.preprocessor\n",
    "import xesmf as xe\n",
    "import warnings\n",
    "%matplotlib inline\n",
    "import seaborn as sns\n",
    "from scipy import stats\n",
    "from scipy.interpolate import interp1d\n",
    "from sklearn import metrics\n",
    "import dask\n",
    "from tqdm import tqdm\n",
    "from nc_processing import calc_spatial_mean\n",
    "from mpl_axes_aligner import align\n",
    "#sns.set()\n",
    "\n",
    "from xmip.preprocessing import rename_cmip6\n",
    "import matplotlib.path as mpath\n",
    "\n",
    "def read_in(dir, ocean = False):\n",
    "    files = []\n",
    "    for x in os.listdir(dir):\n",
    "        files.append(dir + x)\n",
    "    with dask.config.set(**{'array.slicing.split_large_chunks': True}):\n",
    "        ds = rename_cmip6(xr.open_mfdataset(files, use_cftime=True, engine='netcdf4'))\n",
    "    return ds\n",
    "\n",
    "def read_in_ens_mean(dirs, ocean = False, zonal_mean=False, max_ens_members=False):\n",
    "    \"\"\" returns the ensemble mean dataset \"\"\"\n",
    "    \n",
    "    files = []\n",
    "    if max_ens_members:\n",
    "        dirs = dirs[0:max_ens_members]\n",
    "    for dir in dirs:\n",
    "        for x in os.listdir(dir):\n",
    "            if '.nc' in x:\n",
    "                files.append(dir + x)\n",
    "    with dask.config.set(**{'array.slicing.split_large_chunks': True}):\n",
    "        ds = rename_cmip6(xr.open_mfdataset(files, use_cftime=True, concat_dim='ensemble',combine='nested'))\n",
    "        n_ens = len(ds.ensemble) \n",
    "        ds = ds.mean(dim='ensemble')\n",
    "        if zonal_mean:\n",
    "            ds = ds.mean(dim='x')\n",
    "        ds['number_ens_mems_meaned'] = n_ens\n",
    "    return ds\n",
    "\n",
    "def get_gmst(ds):\n",
    "    return calc_spatial_mean(ds.tas.mean(dim=\"time\"), lon_name=\"x\", lat_name=\"y\").values\n",
    "\n",
    "def get_dirs(var, model, scenario, table='Amon'):\n",
    "    if scenario == 'ARISE':\n",
    "        dirs = glob.glob('/badc/deposited2022/arise/data/ARISE/MOHC/UKESM1-0-LL/arise-sai-1p5/*/{t}/{v}/*/*/'.format(\n",
    "            t=table, v=var))\n",
    "    else:\n",
    "        dirs = glob.glob('/badc/cmip6/data/CMIP6/*/*/{m}/{s}/*/{t}/{v}/*/latest/'.format(\n",
    "            m=model, s=scenario, t=table, v=var))\n",
    "    weird_jasmin_vars = ['rlds', 'rlus'] \n",
    "    if model == 'UKESM1-0-LL': # weird error on opening several files, perhaps corrupted?\n",
    "        if var == 'rlds':\n",
    "            dirs = dirs[0:2]\n",
    "        if var == 'rlus':\n",
    "            dirs = dirs[1:]\n",
    "    return dirs\n",
    "\n",
    "\n",
    "def get_all_vars_zonal_monthly(vars, model, scenario,\n",
    "                                min_year=\"2080\", max_year=\"2100\"):\n",
    "    ds_list = []\n",
    "    for var in tqdm(vars):\n",
    "        ds = read_in_ens_mean(get_dirs(var, model, scenario, table='Amon'),\n",
    "                              ocean=False, zonal_mean=True,\n",
    "                              max_ens_members=False)\n",
    "        ds_list.append(ds)\n",
    "    \n",
    "    DS = xr.merge(ds_list, compat='override')\n",
    "    \n",
    "    ## take an arctic spatial mean:\n",
    "    #DS = DS.sel(y=slice(min_lat, max_lat))\n",
    "    #weights = np.cos(np.deg2rad(DS.y))\n",
    "    #weights.name = \"weights\"\n",
    "    #DS_weighted = DS.weighted(weights)\n",
    "    #DS_smean = DS_weighted.mean(\"y\")\n",
    "    \n",
    "    ## take late-century monthly time-mean\n",
    "    DS_stmean = DS.sel(time=slice(min_year, max_year)).groupby(\"time.month\").mean(dim=\"time\")\n",
    "    \n",
    "    return DS_stmean\n",
    "\n",
    "def get_surface_area_north_of_lat(min_lat):\n",
    "    path = '/badc/cmip6/data/CMIP6/CMIP/MOHC/UKESM1-0-LL/piControl/r1i1p1f2/fx/areacella/gn/latest/areacella_fx_UKESM1-0-LL_piControl_r1i1p1f2_gn.nc'\n",
    "    areacella = rename_cmip6(xr.open_dataset(path))\n",
    "    out = areacella.sel(y=slice(min_lat, 90.1)).sum(dim=['x', 'y']).areacella.values*1\n",
    "    return out\n",
    "\n",
    "\n",
    "##### SETTINGS\n",
    "model = 'UKESM1-0-LL'\n",
    "var = 'tas'\n",
    "scenarios = ['G6sulfur', 'ssp245', 'ssp585']#, 'ARISE']\n",
    "#min_lat, max_lat = 70, 90\n",
    "min_year_late_cent, max_year_late_cent = \"2070\", \"2100\"\n",
    "\n",
    "do_preprocess = True\n",
    "\n",
    "plt.rcParams.update({'font.size': 18})\n",
    "\n",
    "\n"
   ]
  },
  {
   "cell_type": "code",
   "execution_count": 62,
   "id": "ae8bb86f-a41a-4d6f-a895-d1d0244c990c",
   "metadata": {},
   "outputs": [],
   "source": [
    "def get_gmst(model):\n",
    "    dir_pi = glob.glob('/badc/cmip6/data/CMIP6/*/*/{}/piControl/r1i*/Amon/tas/*/latest/'.format(model))\n",
    "    files_pi = os.listdir(dir_pi[0])[0:3] # don't need the full length run\n",
    "    paths_pi = []\n",
    "    for x in files_pi:\n",
    "        paths_pi.append(dir_pi[0]+x)\n",
    "    da_pi = rename_cmip6(xr.open_mfdataset(paths_pi)).tas.mean(dim='x')\n",
    "    da_pi = da_pi.weighted(weights=np.cos(np.deg2rad(da_pi.y))).mean(dim='y')\n",
    "    \n",
    "    gmst_pi = da_pi.mean(dim='time').values\n",
    "    print(gmst_pi)\n",
    "    return gmst_pi"
   ]
  },
  {
   "cell_type": "code",
   "execution_count": null,
   "id": "adf3d9fc-8843-4b1e-9a79-c111d433cd82",
   "metadata": {},
   "outputs": [],
   "source": []
  },
  {
   "cell_type": "code",
   "execution_count": 54,
   "id": "c84380a0-04a3-4e0e-983e-82cf7132acaa",
   "metadata": {},
   "outputs": [],
   "source": [
    "model = 'CESM2-WACCM'\n",
    "ds_750 = read_in_ens_mean(glob.glob('/badc/cmip6/data/CMIP6/C4MIP/*/{}/esm-1pct-brch-750PgC/*/Amon/tas/gn/latest/'.format(model)))\n",
    "ds_1000 = read_in_ens_mean(glob.glob('/badc/cmip6/data/CMIP6/C4MIP/*/{}/esm-1pct-brch-1000PgC/*/Amon/tas/gn/latest/'.format(model)))\n",
    "ds_119 = read_in_ens_mean(glob.glob('/badc/cmip6/data/CMIP6/ScenarioMIP/*/{}/ssp119/*/Amon/tas/gn/latest/'.format(model)))\n",
    "\n",
    "da_750 = ds_750.tas.mean(dim='x') - gmst_pi\n",
    "da_750 = da_750.weighted(weights=np.cos(np.deg2rad(da_750.y))).mean(dim='y').compute()\n",
    "da_750 = da_750.groupby(\"time.year\").mean(dim=\"time\").compute()\n",
    "\n",
    "\n",
    "da_1000 = ds_1000.tas.mean(dim='x') - gmst_pi\n",
    "da_1000 = da_1000.weighted(weights=np.cos(np.deg2rad(da_1000.y))).mean(dim='y')\n",
    "da_1000 = da_1000.groupby(\"time.year\").mean(dim=\"time\").compute()\n",
    "\n",
    "da_119 = ds_119.tas.mean(dim='x') - gmst_pi\n",
    "da_119 = da_119.weighted(weights=np.cos(np.deg2rad(da_119.y))).mean(dim='y')\n",
    "da_119 = da_119.groupby(\"time.year\").mean(dim=\"time\").compute()\n",
    "\n"
   ]
  },
  {
   "cell_type": "code",
   "execution_count": 63,
   "id": "8779667e-1ca3-402a-a46f-2ac540c8ee37",
   "metadata": {},
   "outputs": [],
   "source": [
    "def get_da(path, model):\n",
    "    ds = read_in_ens_mean(glob.glob(path))\n",
    "    da = ds.tas.mean(dim='x') - get_gmst(model)\n",
    "    da = da.weighted(weights=np.cos(np.deg2rad(da.y))).mean(dim='y').compute()\n",
    "    da = da.groupby(\"time.year\").mean(dim=\"time\").compute()\n",
    "    return da\n",
    "\n"
   ]
  },
  {
   "cell_type": "code",
   "execution_count": 72,
   "id": "6e6da683-f04f-433c-9150-9e5b1095c3b6",
   "metadata": {},
   "outputs": [],
   "source": [
    "model = 'UKESM1-0-LL'\n",
    "\n",
    "path = '/badc/cmip6/data/CMIP6/C4MIP/*/{}/esm-1pct-brch-750PgC/*/Amon/tas/gn/latest/'.format(model)\n",
    "#path = '/badc/cmip6/data/CMIP6/ScenarioMIP/*/{}/ssp119/*/Amon/tas/gn/latest/'.format(model)\n",
    "#path = '/badc/cmip6/data/CMIP6/ScenarioMIP/*/{}/ssp126/*/Amon/tas/gn/latest/'.format(model)"
   ]
  },
  {
   "cell_type": "code",
   "execution_count": 73,
   "id": "af9c0e3e-7122-426f-a56d-66e7ede717f9",
   "metadata": {},
   "outputs": [
    {
     "name": "stdout",
     "output_type": "stream",
     "text": [
      "286.52036529129015\n"
     ]
    }
   ],
   "source": [
    "da = get_da(path=path, model=model)"
   ]
  },
  {
   "cell_type": "code",
   "execution_count": null,
   "id": "7507ca8b-6652-4669-abf8-6dd8b17a680c",
   "metadata": {},
   "outputs": [],
   "source": []
  },
  {
   "cell_type": "code",
   "execution_count": 74,
   "id": "3543ef63-9b1d-4481-921b-9e0646500e9f",
   "metadata": {},
   "outputs": [
    {
     "data": {
      "text/plain": [
       "<matplotlib.lines.Line2D at 0x7f9a129f21d0>"
      ]
     },
     "execution_count": 74,
     "metadata": {},
     "output_type": "execute_result"
    },
    {
     "data": {
      "image/png": "[encoded data removed]",
      "text/plain": [
       "<Figure size 432x288 with 1 Axes>"
      ]
     },
     "metadata": {
      "needs_background": "light"
     },
     "output_type": "display_data"
    }
   ],
   "source": [
    "plt.plot(da.year, da)\n",
    "plt.axhline(1.5)"
   ]
  },
  {
   "cell_type": "code",
   "execution_count": 4,
   "id": "b90fef34-b8ac-4413-a2ea-047c85972ac0",
   "metadata": {},
   "outputs": [
    {
     "data": {
      "text/plain": [
       "['/badc/cmip6/data/CMIP6/ScenarioMIP/NCAR/CESM2-WACCM/ssp245/r1i1p1f1/Amon/co2/',\n",
       " '/badc/cmip6/data/CMIP6/ScenarioMIP/NCAR/CESM2-WACCM/ssp245/r2i1p1f1/Amon/co2/',\n",
       " '/badc/cmip6/data/CMIP6/ScenarioMIP/NCAR/CESM2-WACCM/ssp245/r3i1p1f1/Amon/co2/']"
      ]
     },
     "execution_count": 4,
     "metadata": {},
     "output_type": "execute_result"
    }
   ],
   "source": [
    "glob.glob('/badc/cmip6/data/CMIP6/ScenarioMIP/*/CESM2-WACCM/*/*/Amon/co2/')"
   ]
  },
  {
   "cell_type": "code",
   "execution_count": 79,
   "id": "eb2f2536-1e99-49e1-91e4-277540f8acc3",
   "metadata": {},
   "outputs": [
    {
     "data": {
      "text/plain": [
       "['6hrPlev',\n",
       " '6hrPlevPt',\n",
       " 'AERmon',\n",
       " 'AERmonZ',\n",
       " 'Amon',\n",
       " 'CFmon',\n",
       " 'Eday',\n",
       " 'EdayZ',\n",
       " 'Emon',\n",
       " 'Eyr',\n",
       " 'LImon',\n",
       " 'Lmon',\n",
       " 'Oday',\n",
       " 'Ofx',\n",
       " 'Omon',\n",
       " 'Oyr',\n",
       " 'SIday',\n",
       " 'SImon',\n",
       " 'day',\n",
       " 'fx']"
      ]
     },
     "execution_count": 79,
     "metadata": {},
     "output_type": "execute_result"
    }
   ],
   "source": [
    "os.listdir('/badc/cmip6/data/CMIP6/ScenarioMIP/NCAR/CESM2-WACCM/ssp126/r1i1p1f1/')"
   ]
  },
  {
   "cell_type": "code",
   "execution_count": 75,
   "id": "6bad9b8b-0ef3-4e58-813e-226af2ac139c",
   "metadata": {},
   "outputs": [
    {
     "data": {
      "text/plain": [
       "['/badc/cmip6/data/CMIP6/ScenarioMIP/NCAR/CESM2-WACCM/ssp126/r1i1p1f1/Amon/tas/gn/latest/',\n",
       " '/badc/cmip6/data/CMIP6/ScenarioMIP/NCAR/CESM2-WACCM/ssp245/r1i1p1f1/Amon/tas/gn/latest/',\n",
       " '/badc/cmip6/data/CMIP6/ScenarioMIP/NCAR/CESM2-WACCM/ssp245/r2i1p1f1/Amon/tas/gn/latest/',\n",
       " '/badc/cmip6/data/CMIP6/ScenarioMIP/NCAR/CESM2-WACCM/ssp245/r3i1p1f1/Amon/tas/gn/latest/',\n",
       " '/badc/cmip6/data/CMIP6/ScenarioMIP/NCAR/CESM2-WACCM/ssp245/r4i1p1f1/Amon/tas/gn/latest/',\n",
       " '/badc/cmip6/data/CMIP6/ScenarioMIP/NCAR/CESM2-WACCM/ssp245/r5i1p1f1/Amon/tas/gn/latest/',\n",
       " '/badc/cmip6/data/CMIP6/ScenarioMIP/NCAR/CESM2-WACCM/ssp370/r1i1p1f1/Amon/tas/gn/latest/',\n",
       " '/badc/cmip6/data/CMIP6/ScenarioMIP/NCAR/CESM2-WACCM/ssp370/r2i1p1f1/Amon/tas/gn/latest/',\n",
       " '/badc/cmip6/data/CMIP6/ScenarioMIP/NCAR/CESM2-WACCM/ssp370/r3i1p1f1/Amon/tas/gn/latest/',\n",
       " '/badc/cmip6/data/CMIP6/ScenarioMIP/NCAR/CESM2-WACCM/ssp534-over/r1i1p1f1/Amon/tas/gn/latest/',\n",
       " '/badc/cmip6/data/CMIP6/ScenarioMIP/NCAR/CESM2-WACCM/ssp534-over/r2i1p1f1/Amon/tas/gn/latest/',\n",
       " '/badc/cmip6/data/CMIP6/ScenarioMIP/NCAR/CESM2-WACCM/ssp585/r1i1p1f1/Amon/tas/gn/latest/',\n",
       " '/badc/cmip6/data/CMIP6/ScenarioMIP/NCAR/CESM2-WACCM/ssp585/r2i1p1f1/Amon/tas/gn/latest/',\n",
       " '/badc/cmip6/data/CMIP6/ScenarioMIP/NCAR/CESM2-WACCM/ssp585/r3i1p1f1/Amon/tas/gn/latest/',\n",
       " '/badc/cmip6/data/CMIP6/ScenarioMIP/NCAR/CESM2-WACCM/ssp585/r4i1p1f1/Amon/tas/gn/latest/',\n",
       " '/badc/cmip6/data/CMIP6/ScenarioMIP/NCAR/CESM2-WACCM/ssp585/r5i1p1f1/Amon/tas/gn/latest/']"
      ]
     },
     "execution_count": 75,
     "metadata": {},
     "output_type": "execute_result"
    }
   ],
   "source": [
    "model='CESM2-WACCM'\n",
    "path = '/badc/cmip6/data/CMIP6/ScenarioMIP/*/{}/*/*/Amon/tas/gn/latest/'.format(model)\n",
    "glob.glob(path)"
   ]
  },
  {
   "cell_type": "code",
   "execution_count": null,
   "id": "4c1f9e2d-9d5e-4a2b-9bfa-41b8bc59851c",
   "metadata": {},
   "outputs": [],
   "source": []
  }
 ],
 "metadata": {
  "kernelspec": {
   "display_name": "main",
   "language": "python",
   "name": "main"
  },
  "language_info": {
   "codemirror_mode": {
    "name": "ipython",
    "version": 3
   },
   "file_extension": ".py",
   "mimetype": "text/x-python",
   "name": "python",
   "nbconvert_exporter": "python",
   "pygments_lexer": "ipython3",
   "version": "3.10.5"
  }
 },
 "nbformat": 4,
 "nbformat_minor": 5
}
