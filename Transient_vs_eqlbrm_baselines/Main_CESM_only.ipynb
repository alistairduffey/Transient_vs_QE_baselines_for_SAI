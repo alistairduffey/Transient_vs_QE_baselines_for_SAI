{
 "cells": [
  {
   "cell_type": "code",
   "execution_count": 1,
   "id": "5715e0f8-ea11-4dc8-a2e1-99dc126fd4a6",
   "metadata": {},
   "outputs": [],
   "source": [
    "## NB there are sometimes issues with xarray backend errors around reading netcdf4.\n",
    "## Restarting kernel seems to fix these. \n",
    "\n",
    "import os\n",
    "import glob\n",
    "import iris\n",
    "import pandas as pd\n",
    "import numpy as np\n",
    "import logging\n",
    "import esmvalcore.preprocessor\n",
    "import xarray as xr\n",
    "import xesmf as xe\n",
    "from tqdm import tqdm\n",
    "from xmip.preprocessing import rename_cmip6\n",
    "import matplotlib.pyplot as plt\n",
    "import dask\n",
    "from nc_processing import calc_spatial_mean\n",
    "from tqdm import tqdm\n",
    "import scipy.stats as stats\n",
    "\n",
    "def read_in(dir, ocean = False):\n",
    "    files = []\n",
    "    for x in os.listdir(dir):\n",
    "        files.append(dir + x)\n",
    "    with dask.config.set(**{'array.slicing.split_large_chunks': True}):\n",
    "        ds = rename_cmip6(xr.open_mfdataset(files, use_cftime=True, engine='netcdf4'))\n",
    "    return ds\n",
    "\n",
    "def read_in_ens_mean(dirs, ocean = False):\n",
    "    \"\"\" returns (1) the ensemble mean dataset, and (2) the number of ensemble members \"\"\"\n",
    "    \n",
    "    files = []\n",
    "    for dir in dirs:\n",
    "        for x in os.listdir(dir):\n",
    "            if '.nc' in x:\n",
    "                files.append(dir + x)\n",
    "    with dask.config.set(**{'array.slicing.split_large_chunks': True}):\n",
    "        ds = rename_cmip6(xr.open_mfdataset(files, use_cftime=True, concat_dim='ensemble',combine='nested'))\n",
    "        n_ens = len(ds.ensemble) \n",
    "        ds = ds.mean(dim='ensemble')\n",
    "        ds['number_ens_mems_meaned'] = n_ens\n",
    "    return ds, n_ens\n",
    "\n",
    "def get_gmst(ds, var):\n",
    "    return calc_spatial_mean(ds[var].mean(dim=\"time\"), lon_name=\"x\", lat_name=\"y\").values\n"
   ]
  },
  {
   "cell_type": "code",
   "execution_count": null,
   "id": "ea323eea-9d67-44cd-8f1e-205290c131ac",
   "metadata": {},
   "outputs": [],
   "source": [
    "## define inputs\n",
    "\n",
    "SSP_scens = [#'ssp119',\n",
    "             'ssp126',\n",
    "             'ssp245',\n",
    "             'ssp370',\n",
    "             #'ssp434',\n",
    "             #'ssp460',\n",
    "             #'ssp534-over',\n",
    "             'ssp585']\n",
    "\n",
    "mods = ['UKESM1-0-LL', 'CESM2-WACCM', 'IPSL-CM6A-LR']\n",
    "\n",
    "\n",
    "var = 'co2'\n",
    "table = 'Amon'"
   ]
  },
  {
   "cell_type": "code",
   "execution_count": null,
   "id": "2e137c8b-0891-4a6a-98d9-af327861d050",
   "metadata": {},
   "outputs": [],
   "source": []
  },
  {
   "cell_type": "code",
   "execution_count": null,
   "id": "5555afb2-90e3-438e-a6ac-448da06bcf57",
   "metadata": {},
   "outputs": [],
   "source": []
  },
  {
   "cell_type": "code",
   "execution_count": null,
   "id": "9bca0431-4be7-4999-8f7d-7a4dfc310088",
   "metadata": {},
   "outputs": [],
   "source": []
  },
  {
   "cell_type": "code",
   "execution_count": null,
   "id": "3bd0f257-92e8-406d-94d5-3b748387637e",
   "metadata": {},
   "outputs": [],
   "source": []
  },
  {
   "cell_type": "code",
   "execution_count": null,
   "id": "a1426311-3ebf-410a-a61c-86beab7434d4",
   "metadata": {},
   "outputs": [],
   "source": []
  }
 ],
 "metadata": {
  "kernelspec": {
   "display_name": "main",
   "language": "python",
   "name": "main"
  },
  "language_info": {
   "codemirror_mode": {
    "name": "ipython",
    "version": 3
   },
   "file_extension": ".py",
   "mimetype": "text/x-python",
   "name": "python",
   "nbconvert_exporter": "python",
   "pygments_lexer": "ipython3",
   "version": "3.10.5"
  }
 },
 "nbformat": 4,
 "nbformat_minor": 5
}
