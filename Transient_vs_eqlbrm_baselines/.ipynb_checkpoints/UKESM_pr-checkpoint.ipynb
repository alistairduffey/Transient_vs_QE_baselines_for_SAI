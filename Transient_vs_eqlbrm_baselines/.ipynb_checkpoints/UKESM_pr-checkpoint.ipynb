{
 "cells": [
  {
   "cell_type": "markdown",
   "id": "cc7985c3-ce14-4603-ab17-ed7971d64e3f",
   "metadata": {},
   "source": [
    "###  Friday 13th October 2023\n",
    "\n",
    "Alistair Duffey\n",
    "\n",
    "This notebook:\n",
    "* finds the 20 year period with gmst = 1.5C under each ssp and ensemble member\n",
    "* calculates the CO2 concentration at crossing 1.5 under each scenario and esnemble member\n",
    "* calculates the global mean precip at crossing 1.5 under each ensemble member\n",
    "\n",
    "We do this only for CESM2, because \n",
    "(1) CESM2-WACCM has the ARISE simulations to compare against. \n",
    "(2) CESM2-WACCM has a lower climate sensitivity than UKESM, so hopefully will see more of a difference in warming rate through 1.5C between scenarios, since 1.5C happens over a decade later. \n",
    "\n",
    "I hope to show that:\n",
    "(1) CO2 is higher at 1.5C for ssp585 than ssp245 (for faster warming scenarios)\n",
    "(2) global mean rainfall is lower at 1.5C for ssp585 than ssp245 (for faster warming scenarios)\n",
    "(3) (hopefully) global mean rainfall at 1.5C is ~linear in the rate of warming through 1.5C, such that we can just draw a straight line through points to get the intercept "
   ]
  },
  {
   "cell_type": "code",
   "execution_count": 1,
   "id": "5715e0f8-ea11-4dc8-a2e1-99dc126fd4a6",
   "metadata": {},
   "outputs": [],
   "source": [
    "\n",
    "\n",
    "\n",
    "import os\n",
    "import glob\n",
    "import iris\n",
    "import pandas as pd\n",
    "import numpy as np\n",
    "import logging\n",
    "import esmvalcore.preprocessor\n",
    "import xarray as xr\n",
    "import xesmf as xe\n",
    "from tqdm import tqdm\n",
    "from xmip.preprocessing import rename_cmip6\n",
    "import matplotlib.pyplot as plt\n",
    "import dask\n",
    "from nc_processing import calc_spatial_mean\n",
    "from tqdm import tqdm\n",
    "import scipy.stats as stats\n",
    "\n",
    "def read_in(dir, ocean = False):\n",
    "    files = []\n",
    "    for x in os.listdir(dir):\n",
    "        files.append(dir + x)\n",
    "    with dask.config.set(**{'array.slicing.split_large_chunks': True}):\n",
    "        ds = rename_cmip6(xr.open_mfdataset(files, use_cftime=True, engine='netcdf4'))\n",
    "    return ds\n",
    "\n",
    "def read_in_ens_mean(dirs, ocean = False):\n",
    "    \"\"\" returns (1) the ensemble mean dataset, and (2) the number of ensemble members \"\"\"\n",
    "    \n",
    "    files = []\n",
    "    for dir in dirs:\n",
    "        for x in os.listdir(dir):\n",
    "            if '.nc' in x:\n",
    "                files.append(dir + x)\n",
    "    with dask.config.set(**{'array.slicing.split_large_chunks': True}):\n",
    "        ds = rename_cmip6(xr.open_mfdataset(files, use_cftime=True, concat_dim='ensemble',combine='nested'))\n",
    "        n_ens = len(ds.ensemble) \n",
    "        ds = ds.mean(dim='ensemble')\n",
    "        ds['number_ens_mems_meaned'] = n_ens\n",
    "    return ds, n_ens\n",
    "\n",
    "def get_gmst(ds, var='tas'):\n",
    "    return calc_spatial_mean(ds[var].mean(dim=\"time\"), lon_name=\"x\", lat_name=\"y\").values\n"
   ]
  },
  {
   "cell_type": "code",
   "execution_count": 102,
   "id": "ea323eea-9d67-44cd-8f1e-205290c131ac",
   "metadata": {},
   "outputs": [],
   "source": [
    "## define inputs\n",
    "\n",
    "SSP_scens = ['ssp119',\n",
    "             'ssp126',\n",
    "             'ssp245',\n",
    "             'ssp370',\n",
    "             #'ssp434',\n",
    "             #'ssp460',\n",
    "             #'ssp534-over',\n",
    "             'ssp585']\n",
    "\n",
    "#mods = ['UKESM1-0-LL', 'CESM2-WACCM', 'IPSL-CM6A-LR']\n",
    "#mods = ['CESM2-WACCM']\n",
    "mods = ['UKESM1-0-LL']\n",
    "var = 'co2'\n",
    "table = 'Amon'\n",
    "\n",
    "model = mods[0]"
   ]
  },
  {
   "cell_type": "code",
   "execution_count": 103,
   "id": "2e137c8b-0891-4a6a-98d9-af327861d050",
   "metadata": {},
   "outputs": [
    {
     "name": "stdout",
     "output_type": "stream",
     "text": [
      "pr\n",
      "UKESM1-0-LL\n",
      "ssp119\n",
      "ssp126\n",
      "ssp245\n",
      "ssp370\n",
      "ssp585\n",
      "tas\n",
      "UKESM1-0-LL\n",
      "ssp119\n",
      "ssp126\n",
      "ssp245\n",
      "ssp370\n",
      "ssp585\n"
     ]
    }
   ],
   "source": [
    "### test scenario availability\n",
    "\n",
    "var = 'tas'\n",
    "vars = ['pr', 'tas']\n",
    "table = 'Amon'\n",
    "\n",
    "for var in vars:\n",
    "    print(var)\n",
    "    for mod in mods:\n",
    "        print(mod)\n",
    "        for scen in SSP_scens:\n",
    "            print(scen)\n",
    "            folder_transient = glob.glob('/badc/cmip6/data/CMIP6/*/*/{m}/{s}/r1i*/{t}/{v}/*/latest/'.format(m=mod, s=scen, t=table, v=var))\n",
    "            if not len(folder_transient) > 0:            \n",
    "                print('not available')\n"
   ]
  },
  {
   "cell_type": "code",
   "execution_count": null,
   "id": "5555afb2-90e3-438e-a6ac-448da06bcf57",
   "metadata": {},
   "outputs": [],
   "source": []
  },
  {
   "cell_type": "code",
   "execution_count": 104,
   "id": "a6311fd9-b521-4d46-8769-0c52697fec9a",
   "metadata": {},
   "outputs": [
    {
     "name": "stdout",
     "output_type": "stream",
     "text": [
      "286.52036529129015\n"
     ]
    }
   ],
   "source": [
    "### first get PI gmst:\n",
    "def get_gmst(model):\n",
    "    dir_pi = glob.glob('/badc/cmip6/data/CMIP6/*/*/{}/piControl/r1i*/Amon/tas/*/latest/'.format(model))\n",
    "    files_pi = os.listdir(dir_pi[0])[0:3] # don't need the full length run\n",
    "    paths_pi = []\n",
    "    for x in files_pi:\n",
    "        paths_pi.append(dir_pi[0]+x)\n",
    "    da_pi = rename_cmip6(xr.open_mfdataset(paths_pi)).tas.mean(dim='x')\n",
    "    da_pi = da_pi.weighted(weights=np.cos(np.deg2rad(da_pi.y))).mean(dim='y')\n",
    "    \n",
    "    gmst_pi = da_pi.mean(dim='time').values\n",
    "    print(gmst_pi)\n",
    "    return gmst_pi\n",
    "\n",
    "gmst_pi = get_gmst(model)"
   ]
  },
  {
   "cell_type": "code",
   "execution_count": 105,
   "id": "19f7801f-fe13-49e1-820d-f7d7423efca6",
   "metadata": {},
   "outputs": [],
   "source": [
    "### now get non-integer crossing year:\n",
    "\n",
    "\n",
    "def get_var_at_crit_T(mod, var, table, scen, ens_mem, crit_warming=2, window_length=21):\n",
    "    \"\"\" produce a spatial nc file, with map of mean values during window when \n",
    "    model and scen pass a gmst temperature threshold crit_temp\n",
    "     \"\"\"\n",
    "    \n",
    "    folder_tas = glob.glob('/badc/cmip6/data/CMIP6/*/*/{m}/{s}/{e}/Amon/tas/*/latest/'.format(\n",
    "            m=mod, s=scen, e=ens_mem))[0]\n",
    "    \n",
    "    folder_var = glob.glob('/badc/cmip6/data/CMIP6/*/*/{m}/{s}/{e}/{t}/{v}/*/latest/'.format(\n",
    "            m=mod, s=scen, t=table, v=var, e=ens_mem))[0]\n",
    "    \n",
    "    crit_temp = gmst_pi + crit_warming\n",
    "    \n",
    "    ds = read_in(folder_tas)\n",
    "    ds = ds.sel(time=slice(None, '2150'))\n",
    "    ds_annual_spatial_mean = calc_spatial_mean(ds.tas, lon_name=\"x\", lat_name=\"y\").groupby(\"time.year\").mean(dim=\"time\")\n",
    "    df = pd.DataFrame({'Year': ds_annual_spatial_mean.year.values,\n",
    "                           'gmst': ds_annual_spatial_mean.values})\n",
    "    df['gmst_rolling'] = df['gmst'].rolling(window=window_length, center=True).mean()\n",
    "\n",
    "    ds = read_in(folder_var)\n",
    "    ds = ds.sel(time=slice(None, '2150'))\n",
    "    ds_annual_spatial_mean = calc_spatial_mean(ds[var], lon_name=\"x\", lat_name=\"y\").groupby(\"time.year\").mean(dim=\"time\")\n",
    "    df[var] = ds_annual_spatial_mean.values\n",
    "    name = str(var+'_rolling')\n",
    "    df[name] = df[var].rolling(window=window_length, center=True).mean()\n",
    "\n",
    "    # also add column for rate of change of T:\n",
    "    gmst_rolling_dTdt = np.diff(df['gmst_rolling'])\n",
    "\n",
    "    ## now calculate crossing year:\n",
    "    crossing_year = np.interp(crit_temp, df['gmst_rolling'], df['Year'])\n",
    "    crossing_var = np.interp(crossing_year, df['Year'], df[name])\n",
    "    crossing_rate = np.interp(crossing_year, df['Year'][:-1], gmst_rolling_dTdt)\n",
    "\n",
    "    out_dict = {'Scenario':scen,\n",
    "                'Ensemble_member':ens_mem,\n",
    "                'Model':mod,\n",
    "                'Crossing_year_{}'.format(crit_warming):crossing_year,\n",
    "                '{}_at_crossing_year'.format(var):crossing_var,\n",
    "                'Warming_rate_at_crossing_year':crossing_rate}\n",
    "    return out_dict, df"
   ]
  },
  {
   "cell_type": "code",
   "execution_count": 107,
   "id": "d860f7ad-7226-42cb-9c66-1416bce9f8e7",
   "metadata": {},
   "outputs": [],
   "source": [
    "out_dict, df = get_var_at_crit_T(mod=model, var='pr', table='Amon', \n",
    "                       scen='ssp585', ens_mem='r1i1p1f2', crit_warming=1.5, window_length=10)"
   ]
  },
  {
   "cell_type": "code",
   "execution_count": 108,
   "id": "6eb11d14-c584-4f11-a91d-16f796beeee2",
   "metadata": {},
   "outputs": [
    {
     "data": {
      "text/plain": [
       "<matplotlib.lines.Line2D at 0x7f6c8826e950>"
      ]
     },
     "execution_count": 108,
     "metadata": {},
     "output_type": "execute_result"
    },
    {
     "data": {
      "image/png": "[encoded data removed]",
      "text/plain": [
       "<Figure size 432x288 with 1 Axes>"
      ]
     },
     "metadata": {
      "needs_background": "light"
     },
     "output_type": "display_data"
    }
   ],
   "source": [
    "plt.plot(df['Year'], df['gmst_rolling'])\n",
    "plt.axhline(gmst_pi + 1.5)"
   ]
  },
  {
   "cell_type": "code",
   "execution_count": 109,
   "id": "8ffde845-5907-44e4-afa8-37a00c72ea59",
   "metadata": {},
   "outputs": [
    {
     "data": {
      "text/plain": [
       "2023.0418826816551"
      ]
     },
     "execution_count": 109,
     "metadata": {},
     "output_type": "execute_result"
    }
   ],
   "source": [
    "crossing_year = np.interp(gmst_pi + 1.5, df['gmst_rolling'], df['Year'])\n",
    "crossing_year"
   ]
  },
  {
   "cell_type": "code",
   "execution_count": 138,
   "id": "40c132f8-6c06-464a-a538-862543e5cde3",
   "metadata": {},
   "outputs": [
    {
     "name": "stdout",
     "output_type": "stream",
     "text": [
      "ssp119\n",
      "[]\n",
      "ssp126\n",
      "[]\n",
      "ssp245\n",
      "[]\n",
      "ssp370\n",
      "[]\n",
      "ssp585\n",
      "[]\n"
     ]
    }
   ],
   "source": [
    "# cool, now run across all the scenarios and ensemble members:\n",
    "var='co2'\n",
    "out_dicts = []\n",
    "for scen in SSP_scens:\n",
    "    ens_mems = []\n",
    "    for path in glob.glob('/badc/cmip6/data/CMIP6/*/*/{m}/{s}/*/Amon/{v}/*/latest/'.format(\n",
    "        m=model, s=scen, v=var)):\n",
    "        ens_mems.append(path.split('/')[9])\n",
    "    print(scen)\n",
    "    print(ens_mems)\n",
    "\n",
    "    for ens_mem in ens_mems:\n",
    "        print(ens_mem)\n",
    "        out_dict, df = get_var_at_crit_T(mod=model, var=var, table='Amon', \n",
    "                           scen=scen, ens_mem=ens_mem, crit_warming=1.5, window_length=10)\n",
    "        \n",
    "        out_dicts.append(out_dict)\n",
    "        "
   ]
  },
  {
   "cell_type": "code",
   "execution_count": 143,
   "id": "5caa04e9-a91a-4185-9304-fa1cc770798f",
   "metadata": {},
   "outputs": [
    {
     "name": "stdout",
     "output_type": "stream",
     "text": [
      "ssp119\n",
      "['r1i1p1f2', 'r2i1p1f2', 'r3i1p1f2', 'r4i1p1f2', 'r8i1p1f2']\n",
      "r1i1p1f2\n",
      "r2i1p1f2\n",
      "r3i1p1f2\n",
      "r4i1p1f2\n",
      "r8i1p1f2\n",
      "ssp126\n",
      "['r10i1p1f2', 'r11i1p1f2', 'r12i1p1f2', 'r16i1p1f2', 'r17i1p1f2', 'r18i1p1f2', 'r19i1p1f2', 'r1i1p1f2', 'r2i1p1f2', 'r3i1p1f2', 'r4i1p1f2', 'r5i1p1f2', 'r6i1p1f2', 'r7i1p1f2', 'r8i1p1f2', 'r9i1p1f2']\n",
      "r10i1p1f2\n",
      "r11i1p1f2\n",
      "r12i1p1f2\n",
      "r16i1p1f2\n",
      "r17i1p1f2\n",
      "r18i1p1f2\n",
      "r19i1p1f2\n",
      "r1i1p1f2\n",
      "r2i1p1f2\n",
      "r3i1p1f2\n",
      "r4i1p1f2\n",
      "r5i1p1f2\n",
      "r6i1p1f2\n",
      "r7i1p1f2\n",
      "r8i1p1f2\n",
      "r9i1p1f2\n",
      "ssp245\n",
      "['r10i1p1f2', 'r11i1p1f2', 'r12i1p1f2', 'r16i1p1f2', 'r17i1p1f2', 'r18i1p1f2', 'r19i1p1f2', 'r1i1p1f2', 'r2i1p1f2', 'r3i1p1f2', 'r4i1p1f2', 'r5i1p1f2', 'r6i1p1f2', 'r7i1p1f2', 'r8i1p1f2', 'r9i1p1f2', 'r13i1p1f2']\n",
      "r10i1p1f2\n",
      "r11i1p1f2\n",
      "r12i1p1f2\n",
      "r16i1p1f2\n",
      "r17i1p1f2\n",
      "r18i1p1f2\n",
      "r19i1p1f2\n",
      "r1i1p1f2\n",
      "r2i1p1f2\n",
      "r3i1p1f2\n",
      "r4i1p1f2\n",
      "r5i1p1f2\n",
      "r6i1p1f2\n",
      "r7i1p1f2\n",
      "r8i1p1f2\n",
      "r9i1p1f2\n",
      "r13i1p1f2\n",
      "ssp370\n",
      "['r10i1p1f2', 'r11i1p1f2', 'r12i1p1f2', 'r16i1p1f2', 'r17i1p1f2', 'r18i1p1f2', 'r19i1p1f2', 'r1i1p1f2', 'r2i1p1f2', 'r3i1p1f2', 'r4i1p1f2', 'r5i1p1f2', 'r6i1p1f2', 'r7i1p1f2', 'r8i1p1f2', 'r9i1p1f2']\n",
      "r10i1p1f2\n",
      "r11i1p1f2\n",
      "r12i1p1f2\n",
      "r16i1p1f2\n",
      "r17i1p1f2\n",
      "r18i1p1f2\n",
      "r19i1p1f2\n",
      "r1i1p1f2\n",
      "r2i1p1f2\n",
      "r3i1p1f2\n",
      "r4i1p1f2\n",
      "r5i1p1f2\n",
      "r6i1p1f2\n",
      "r7i1p1f2\n",
      "r8i1p1f2\n",
      "r9i1p1f2\n",
      "ssp585\n",
      "['r1i1p1f2', 'r2i1p1f2', 'r3i1p1f2', 'r4i1p1f2', 'r8i1p1f2']\n",
      "r1i1p1f2\n",
      "r2i1p1f2\n",
      "r3i1p1f2\n",
      "r4i1p1f2\n",
      "r8i1p1f2\n"
     ]
    }
   ],
   "source": [
    "# cool, now run across all the scenarios and ensemble members:\n",
    "var='pr'\n",
    "out_dicts = []\n",
    "for scen in SSP_scens:\n",
    "    ens_mems = []\n",
    "    for path in glob.glob('/badc/cmip6/data/CMIP6/*/*/{m}/{s}/*/Amon/{v}/*/latest/'.format(\n",
    "        m=model, s=scen, v=var)):\n",
    "        ens_mems.append(path.split('/')[9])\n",
    "    print(scen)\n",
    "    print(ens_mems)\n",
    "\n",
    "    for ens_mem in ens_mems:\n",
    "        print(ens_mem)\n",
    "        out_dict, df = get_var_at_crit_T(mod=model, var=var, table='Amon', \n",
    "                           scen=scen, ens_mem=ens_mem, crit_warming=2, window_length=15)\n",
    "        \n",
    "        out_dicts.append(out_dict)\n",
    "        \n",
    "        "
   ]
  },
  {
   "cell_type": "code",
   "execution_count": null,
   "id": "78a6e8b5-c698-468f-90df-2055fe4ad8d9",
   "metadata": {},
   "outputs": [
    {
     "name": "stdout",
     "output_type": "stream",
     "text": [
      "\n"
     ]
    },
    {
     "data": {
      "image/png": "[encoded data removed]",
      "text/plain": [
       "<Figure size 432x288 with 1 Axes>"
      ]
     },
     "metadata": {
      "needs_background": "light"
     },
     "output_type": "display_data"
    }
   ],
   "source": [
    "rates = []\n",
    "prs = []\n",
    "scenarios = []\n",
    "members = []\n",
    "\n",
    "colors_dict = {'ssp119':'Red',\n",
    "             'ssp126':'Blue',\n",
    "             'ssp245':'Black',\n",
    "             'ssp370':'Green',\n",
    "             'ssp585':'Orange'}\n",
    "\n",
    "for dict in out_dicts:\n",
    "    plt.scatter(dict['Warming_rate_at_crossing_year'], dict['pr_at_crossing_year'], color=colors_dict[dict['Scenario']])\n",
    "    rates.append(dict['Warming_rate_at_crossing_year'])\n",
    "    prs.append(dict['pr_at_crossing_year'])\n",
    "    scenarios.append(dict['Scenario'])\n",
    "    members.append(dict['Ensemble_member'])\n",
    "    \n",
    "#plt.legend()\n",
    "df = pd.DataFrame({'Rate':rates,\n",
    "                   'Pr':prs,\n",
    "                   'Scenario':scenarios,\n",
    "                   'Ensemble_member':members})\n",
    "df.to_csv('{}_at_crit_temp.csv'.format(var))\n",
    "\n",
    "x, y = df['Rate'].dropna(), df['Pr'].dropna()\n",
    "plt.plot(np.unique(x), np.poly1d(np.polyfit(x, y, 1))(np.unique(x)))\n",
    "\n",
    "print()"
   ]
  },
  {
   "cell_type": "code",
   "execution_count": null,
   "id": "3e567f91-86a6-4b24-94bd-db22c7826a8e",
   "metadata": {},
   "outputs": [
    {
     "data": {
      "text/plain": [
       "['r1i1p1f2', 'r2i1p1f2', 'r3i1p1f2', 'r4i1p1f2', 'r8i1p1f2']"
      ]
     },
     "execution_count": 145,
     "metadata": {},
     "output_type": "execute_result"
    }
   ],
   "source": [
    "arise_mems = []\n",
    "for mem in glob.glob('/badc/deposited2022/arise/data/ARISE/MOHC/UKESM1-0-LL/arise-sai-1p5/*/Amon/tas/gn/*/'):\n",
    "    arise_mems.append(mem.split('/')[9])\n",
    "arise_mems"
   ]
  },
  {
   "cell_type": "code",
   "execution_count": null,
   "id": "f81c75e6-9b5e-4a53-967d-ecac716393a1",
   "metadata": {},
   "outputs": [
    {
     "name": "stdout",
     "output_type": "stream",
     "text": [
      "-0.029475228066282274\n",
      "1.1554019237885448e-10\n"
     ]
    },
    {
     "name": "stderr",
     "output_type": "stream",
     "text": [
      "/tmp/ipykernel_1242/2844910236.py:1: UserWarning: Boolean Series key will be reindexed to match DataFrame index.\n",
      "  df_arise_base = df[df['Scenario']=='ssp245'][df['Ensemble_member'].isin(arise_mems)]\n"
     ]
    }
   ],
   "source": [
    "df_arise_base = df[df['Scenario']=='ssp245'][df['Ensemble_member'].isin(arise_mems)]\n",
    "print((np.mean(df_arise_base['Pr']) - stats.linregress(x, y).intercept)*86400)\n",
    "\n",
    "print(stats.linregress(x, y).pvalue)\n",
    "\n",
    "# the number below is the change to estimated drying (mm per day) relative to baseline\n",
    "# from normal transient baseline, to an estimated QE baseline. \n",
    "# from Henry et al., the total drying relative to Tr is ~ -0.035, so\n",
    "# my finding here suggests drying is over-estimated by ~ 20%\n",
    "# biggest limitation is probably the low p-value tbh - need to think about this. "
   ]
  },
  {
   "cell_type": "code",
   "execution_count": null,
   "id": "985f16b7-3c2a-4a1c-8b76-76c4fc7b0325",
   "metadata": {},
   "outputs": [],
   "source": []
  },
  {
   "cell_type": "code",
   "execution_count": null,
   "id": "e61bd9f6-6f2a-46fd-98ef-3868bf3bd645",
   "metadata": {},
   "outputs": [],
   "source": []
  },
  {
   "cell_type": "code",
   "execution_count": null,
   "id": "51aebe4d-2003-41a9-b930-c76e9e10ed4c",
   "metadata": {},
   "outputs": [
    {
     "data": {
      "image/png": "[encoded data removed]",
      "text/plain": [
       "<Figure size 432x288 with 1 Axes>"
      ]
     },
     "metadata": {
      "needs_background": "light"
     },
     "output_type": "display_data"
    }
   ],
   "source": [
    "import seaborn as sns\n",
    "\n",
    "sns.histplot(data=df, x='Scenario', y='Pr')\n",
    "plt.title('{}'.format(model))\n",
    "plt.savefig('Figures/out_{}.jpg'.format(model), dpi=400)"
   ]
  },
  {
   "cell_type": "code",
   "execution_count": null,
   "id": "dd5fdc11-ec25-4e53-9001-f7acdc97b074",
   "metadata": {},
   "outputs": [],
   "source": []
  },
  {
   "cell_type": "code",
   "execution_count": null,
   "id": "a2b3dadc-caf5-47e4-a3da-7ef4ea97b55b",
   "metadata": {},
   "outputs": [
    {
     "ename": "KeyError",
     "evalue": "'Year'",
     "output_type": "error",
     "traceback": [
      "\u001b[0;31m---------------------------------------------------------------------------\u001b[0m",
      "\u001b[0;31mKeyError\u001b[0m                                  Traceback (most recent call last)",
      "File \u001b[0;32m~/.conda/envs/main/lib/python3.10/site-packages/pandas/core/indexes/base.py:3621\u001b[0m, in \u001b[0;36mIndex.get_loc\u001b[0;34m(self, key, method, tolerance)\u001b[0m\n\u001b[1;32m   3620\u001b[0m \u001b[38;5;28;01mtry\u001b[39;00m:\n\u001b[0;32m-> 3621\u001b[0m     \u001b[38;5;28;01mreturn\u001b[39;00m \u001b[38;5;28;43mself\u001b[39;49m\u001b[38;5;241;43m.\u001b[39;49m\u001b[43m_engine\u001b[49m\u001b[38;5;241;43m.\u001b[39;49m\u001b[43mget_loc\u001b[49m\u001b[43m(\u001b[49m\u001b[43mcasted_key\u001b[49m\u001b[43m)\u001b[49m\n\u001b[1;32m   3622\u001b[0m \u001b[38;5;28;01mexcept\u001b[39;00m \u001b[38;5;167;01mKeyError\u001b[39;00m \u001b[38;5;28;01mas\u001b[39;00m err:\n",
      "File \u001b[0;32m~/.conda/envs/main/lib/python3.10/site-packages/pandas/_libs/index.pyx:136\u001b[0m, in \u001b[0;36mpandas._libs.index.IndexEngine.get_loc\u001b[0;34m()\u001b[0m\n",
      "File \u001b[0;32m~/.conda/envs/main/lib/python3.10/site-packages/pandas/_libs/index.pyx:163\u001b[0m, in \u001b[0;36mpandas._libs.index.IndexEngine.get_loc\u001b[0;34m()\u001b[0m\n",
      "File \u001b[0;32mpandas/_libs/hashtable_class_helper.pxi:5198\u001b[0m, in \u001b[0;36mpandas._libs.hashtable.PyObjectHashTable.get_item\u001b[0;34m()\u001b[0m\n",
      "File \u001b[0;32mpandas/_libs/hashtable_class_helper.pxi:5206\u001b[0m, in \u001b[0;36mpandas._libs.hashtable.PyObjectHashTable.get_item\u001b[0;34m()\u001b[0m\n",
      "\u001b[0;31mKeyError\u001b[0m: 'Year'",
      "\nThe above exception was the direct cause of the following exception:\n",
      "\u001b[0;31mKeyError\u001b[0m                                  Traceback (most recent call last)",
      "Input \u001b[0;32mIn [148]\u001b[0m, in \u001b[0;36m<cell line: 1>\u001b[0;34m()\u001b[0m\n\u001b[0;32m----> 1\u001b[0m plt\u001b[38;5;241m.\u001b[39mplot(\u001b[43mdf\u001b[49m\u001b[43m[\u001b[49m\u001b[38;5;124;43m'\u001b[39;49m\u001b[38;5;124;43mYear\u001b[39;49m\u001b[38;5;124;43m'\u001b[39;49m\u001b[43m]\u001b[49m, df[\u001b[38;5;124m'\u001b[39m\u001b[38;5;124mgmst_rolling\u001b[39m\u001b[38;5;124m'\u001b[39m])\n",
      "File \u001b[0;32m~/.conda/envs/main/lib/python3.10/site-packages/pandas/core/frame.py:3505\u001b[0m, in \u001b[0;36mDataFrame.__getitem__\u001b[0;34m(self, key)\u001b[0m\n\u001b[1;32m   3503\u001b[0m \u001b[38;5;28;01mif\u001b[39;00m \u001b[38;5;28mself\u001b[39m\u001b[38;5;241m.\u001b[39mcolumns\u001b[38;5;241m.\u001b[39mnlevels \u001b[38;5;241m>\u001b[39m \u001b[38;5;241m1\u001b[39m:\n\u001b[1;32m   3504\u001b[0m     \u001b[38;5;28;01mreturn\u001b[39;00m \u001b[38;5;28mself\u001b[39m\u001b[38;5;241m.\u001b[39m_getitem_multilevel(key)\n\u001b[0;32m-> 3505\u001b[0m indexer \u001b[38;5;241m=\u001b[39m \u001b[38;5;28;43mself\u001b[39;49m\u001b[38;5;241;43m.\u001b[39;49m\u001b[43mcolumns\u001b[49m\u001b[38;5;241;43m.\u001b[39;49m\u001b[43mget_loc\u001b[49m\u001b[43m(\u001b[49m\u001b[43mkey\u001b[49m\u001b[43m)\u001b[49m\n\u001b[1;32m   3506\u001b[0m \u001b[38;5;28;01mif\u001b[39;00m is_integer(indexer):\n\u001b[1;32m   3507\u001b[0m     indexer \u001b[38;5;241m=\u001b[39m [indexer]\n",
      "File \u001b[0;32m~/.conda/envs/main/lib/python3.10/site-packages/pandas/core/indexes/base.py:3623\u001b[0m, in \u001b[0;36mIndex.get_loc\u001b[0;34m(self, key, method, tolerance)\u001b[0m\n\u001b[1;32m   3621\u001b[0m     \u001b[38;5;28;01mreturn\u001b[39;00m \u001b[38;5;28mself\u001b[39m\u001b[38;5;241m.\u001b[39m_engine\u001b[38;5;241m.\u001b[39mget_loc(casted_key)\n\u001b[1;32m   3622\u001b[0m \u001b[38;5;28;01mexcept\u001b[39;00m \u001b[38;5;167;01mKeyError\u001b[39;00m \u001b[38;5;28;01mas\u001b[39;00m err:\n\u001b[0;32m-> 3623\u001b[0m     \u001b[38;5;28;01mraise\u001b[39;00m \u001b[38;5;167;01mKeyError\u001b[39;00m(key) \u001b[38;5;28;01mfrom\u001b[39;00m \u001b[38;5;21;01merr\u001b[39;00m\n\u001b[1;32m   3624\u001b[0m \u001b[38;5;28;01mexcept\u001b[39;00m \u001b[38;5;167;01mTypeError\u001b[39;00m:\n\u001b[1;32m   3625\u001b[0m     \u001b[38;5;66;03m# If we have a listlike key, _check_indexing_error will raise\u001b[39;00m\n\u001b[1;32m   3626\u001b[0m     \u001b[38;5;66;03m#  InvalidIndexError. Otherwise we fall through and re-raise\u001b[39;00m\n\u001b[1;32m   3627\u001b[0m     \u001b[38;5;66;03m#  the TypeError.\u001b[39;00m\n\u001b[1;32m   3628\u001b[0m     \u001b[38;5;28mself\u001b[39m\u001b[38;5;241m.\u001b[39m_check_indexing_error(key)\n",
      "\u001b[0;31mKeyError\u001b[0m: 'Year'"
     ]
    }
   ],
   "source": []
  },
  {
   "cell_type": "code",
   "execution_count": null,
   "id": "3f81c7b2-6cec-43c4-8e48-408c4169e55b",
   "metadata": {},
   "outputs": [],
   "source": []
  },
  {
   "cell_type": "code",
   "execution_count": null,
   "id": "cd50b5aa-1ede-41a4-9ebe-2226f18c3a4e",
   "metadata": {},
   "outputs": [],
   "source": []
  },
  {
   "cell_type": "code",
   "execution_count": null,
   "id": "d5a5b0ab-20b0-4763-98c2-add0b1cee19f",
   "metadata": {},
   "outputs": [],
   "source": []
  },
  {
   "cell_type": "code",
   "execution_count": null,
   "id": "7c4f98ba-6f8e-4441-855c-0b9779d2652d",
   "metadata": {},
   "outputs": [],
   "source": []
  },
  {
   "cell_type": "code",
   "execution_count": null,
   "id": "b5eed3ca-4418-48e0-863d-f804f13f3050",
   "metadata": {},
   "outputs": [],
   "source": []
  },
  {
   "cell_type": "code",
   "execution_count": null,
   "id": "6685e372-1f2f-4d9f-afab-1d746ceff115",
   "metadata": {},
   "outputs": [],
   "source": []
  },
  {
   "cell_type": "code",
   "execution_count": null,
   "id": "b58c3aa0-df42-4110-9d53-bea8684f66e3",
   "metadata": {},
   "outputs": [],
   "source": [
    "\n",
    "def get_transient_climate_crit_T(mod, var, table, scen, crit_warming=2, window_length=21):\n",
    "    \"\"\" produce a spatial nc file, with map of mean values during window when \n",
    "    model and scen pass a gmst temperature threshold crit_temp\n",
    "     \"\"\"\n",
    "    \n",
    "    folder_tas = glob.glob('/badc/cmip6/data/CMIP6/*/*/{m}/{s}/*/Amon/tas/*/latest/'.format(\n",
    "            m=mod, s=scen))\n",
    "    \n",
    "    folder_var = glob.glob('/badc/cmip6/data/CMIP6/*/*/{m}/{s}/*/{t}/{v}/*/latest/'.format(\n",
    "            m=mod, s=scen, t=table, v=var))\n",
    "    \n",
    "    pi_folder = glob.glob('/badc/cmip6/data/CMIP6/*/*/{m}/piControl/r1i*/Amon/tas/*/latest/'.format(\n",
    "            m=mod))[0]\n",
    "    \n",
    "    ds, n_ens = read_in_ens_mean(folder_tas)\n",
    "    mod_pi_gmst = get_gmst(read_in(pi_folder)) + 0\n",
    "    crit_temp = mod_pi_gmst + crit_warming\n",
    "    \n",
    "    ds = ds.sel(time=slice(None, '2150'))\n",
    "    ds_annual_spatial_mean = calc_spatial_mean(ds.tas, lon_name=\"x\", lat_name=\"y\").groupby(\"time.year\").mean(dim=\"time\")\n",
    "    df = pd.DataFrame({'Year': ds_annual_spatial_mean.year.values,\n",
    "                           'gmst': ds_annual_spatial_mean.values})\n",
    "    df['gmst_rolling'] = df['gmst'].rolling(window=window_length, center=True).mean()\n",
    "    df['gmst_roll_diff'] = np.abs(df['gmst_rolling'] - crit_temp)\n",
    "    print(df[df.gmst_roll_diff == df.gmst_roll_diff.min()])\n",
    "    \n",
    "    crossing_df = df[df.gmst_roll_diff == df.gmst_roll_diff.min()]\n",
    "    crossing_year = crossing_df['Year'].values[0]\n",
    "    window_years = [int(crossing_year-(window_length-1)/2), int(crossing_year+(window_length-1)/2)]\n",
    "    #print(window_years)\n",
    "    \n",
    "    plt.plot(df['Year'], df['gmst'])\n",
    "    plt.plot(df['Year'], df['gmst_rolling'])\n",
    "    plt.axhline(crit_temp, c='r', ls='--')\n",
    "    plt.axvline(window_years[0], c='gray', ls='--')\n",
    "    plt.axvline(window_years[1], c='gray', ls='--')\n",
    "    plt.show()\n",
    "    \n",
    "    #now calc output for window and save\n",
    "    ds_var, n_ens_var = read_in_ens_mean(folder_var)\n",
    "    ds_window = ds_var.groupby(\"time.year\").mean(dim=\"time\").sel(year=slice(window_years[0], window_years[1]))\n",
    "    map_mean = ds_window.mean(dim=['year'])\n",
    "    da = map_mean.mean(dim='x')[var]\n",
    "    out = da.weighted(weights=np.cos(np.deg2rad(da.y))).mean(dim='y').compute().values\n",
    "\n",
    "    return out"
   ]
  },
  {
   "cell_type": "code",
   "execution_count": 14,
   "id": "9bca0431-4be7-4999-8f7d-7a4dfc310088",
   "metadata": {},
   "outputs": [
    {
     "name": "stderr",
     "output_type": "stream",
     "text": [
      "/home/users/a_duffey/.conda/envs/main/lib/python3.10/site-packages/xarray/conventions.py:516: SerializationWarning: variable 'tas' has multiple fill values {1e+20, 1e+20}, decoding all values to NaN.\n",
      "  new_vars[k] = decode_cf_variable(\n",
      "/home/users/a_duffey/.conda/envs/main/lib/python3.10/site-packages/xarray/conventions.py:516: SerializationWarning: variable 'tas' has multiple fill values {1e+20, 1e+20}, decoding all values to NaN.\n",
      "  new_vars[k] = decode_cf_variable(\n"
     ]
    },
    {
     "name": "stdout",
     "output_type": "stream",
     "text": [
      "    Year        gmst  gmst_rolling  gmst_roll_diff\n",
      "12  2027  288.553138    288.562118        0.002981\n"
     ]
    },
    {
     "data": {
      "image/png": "[encoded data removed]",
      "text/plain": [
       "<Figure size 432x288 with 1 Axes>"
      ]
     },
     "metadata": {
      "needs_background": "light"
     },
     "output_type": "display_data"
    },
    {
     "name": "stderr",
     "output_type": "stream",
     "text": [
      "/home/users/a_duffey/.conda/envs/main/lib/python3.10/site-packages/xarray/conventions.py:516: SerializationWarning: variable 'pr' has multiple fill values {1e+20, 1e+20}, decoding all values to NaN.\n",
      "  new_vars[k] = decode_cf_variable(\n"
     ]
    },
    {
     "data": {
      "text/plain": [
       "array(3.4177672e-05)"
      ]
     },
     "execution_count": 14,
     "metadata": {},
     "output_type": "execute_result"
    }
   ],
   "source": [
    "### try \n",
    "\n",
    "get_transient_climate_crit_T(mod = mods[0], var='pr', table='Amon', scen = 'ssp245', crit_warming=1.5, window_length=21)"
   ]
  },
  {
   "cell_type": "code",
   "execution_count": 16,
   "id": "3bd0f257-92e8-406d-94d5-3b748387637e",
   "metadata": {},
   "outputs": [
    {
     "name": "stderr",
     "output_type": "stream",
     "text": [
      "/home/users/a_duffey/.conda/envs/main/lib/python3.10/site-packages/xarray/conventions.py:516: SerializationWarning: variable 'tas' has multiple fill values {1e+20, 1e+20}, decoding all values to NaN.\n",
      "  new_vars[k] = decode_cf_variable(\n",
      "/home/users/a_duffey/.conda/envs/main/lib/python3.10/site-packages/xarray/conventions.py:516: SerializationWarning: variable 'tas' has multiple fill values {1e+20, 1e+20}, decoding all values to NaN.\n",
      "  new_vars[k] = decode_cf_variable(\n"
     ]
    },
    {
     "name": "stdout",
     "output_type": "stream",
     "text": [
      "    Year        gmst  gmst_rolling  gmst_roll_diff\n",
      "10  2025  288.725783    288.584616        0.025478\n"
     ]
    },
    {
     "data": {
      "image/png": "[encoded data removed]",
      "text/plain": [
       "<Figure size 432x288 with 1 Axes>"
      ]
     },
     "metadata": {
      "needs_background": "light"
     },
     "output_type": "display_data"
    },
    {
     "name": "stderr",
     "output_type": "stream",
     "text": [
      "/home/users/a_duffey/.conda/envs/main/lib/python3.10/site-packages/xarray/conventions.py:516: SerializationWarning: variable 'pr' has multiple fill values {1e+20, 1e+20}, decoding all values to NaN.\n",
      "  new_vars[k] = decode_cf_variable(\n"
     ]
    },
    {
     "data": {
      "text/plain": [
       "array(3.43622025e-05)"
      ]
     },
     "execution_count": 16,
     "metadata": {},
     "output_type": "execute_result"
    }
   ],
   "source": [
    "\n",
    "get_transient_climate_crit_T(mod = mods[0], var='pr', table='Amon', scen = 'ssp126', crit_warming=1.5, window_length=21)"
   ]
  },
  {
   "cell_type": "code",
   "execution_count": 5,
   "id": "a1426311-3ebf-410a-a61c-86beab7434d4",
   "metadata": {},
   "outputs": [
    {
     "name": "stderr",
     "output_type": "stream",
     "text": [
      "/home/users/a_duffey/.conda/envs/main/lib/python3.10/site-packages/xarray/conventions.py:516: SerializationWarning: variable 'tas' has multiple fill values {1e+20, 1e+20}, decoding all values to NaN.\n",
      "  new_vars[k] = decode_cf_variable(\n",
      "/home/users/a_duffey/.conda/envs/main/lib/python3.10/site-packages/xarray/conventions.py:516: SerializationWarning: variable 'tas' has multiple fill values {1e+20, 1e+20}, decoding all values to NaN.\n",
      "  new_vars[k] = decode_cf_variable(\n"
     ]
    },
    {
     "name": "stdout",
     "output_type": "stream",
     "text": [
      "    Year        gmst  gmst_rolling  gmst_roll_diff\n",
      "10  2025  288.658988    288.592394        0.033256\n"
     ]
    },
    {
     "data": {
      "image/png": "[encoded data removed]",
      "text/plain": [
       "<Figure size 432x288 with 1 Axes>"
      ]
     },
     "metadata": {
      "needs_background": "light"
     },
     "output_type": "display_data"
    },
    {
     "name": "stderr",
     "output_type": "stream",
     "text": [
      "/home/users/a_duffey/.conda/envs/main/lib/python3.10/site-packages/xarray/conventions.py:516: SerializationWarning: variable 'pr' has multiple fill values {1e+20, 1e+20}, decoding all values to NaN.\n",
      "  new_vars[k] = decode_cf_variable(\n"
     ]
    },
    {
     "data": {
      "text/plain": [
       "array(3.42244897e-05)"
      ]
     },
     "execution_count": 5,
     "metadata": {},
     "output_type": "execute_result"
    }
   ],
   "source": [
    "\n",
    "get_transient_climate_crit_T(mod = mods[0], var='pr', table='Amon', scen = 'ssp585', crit_warming=1.5, window_length=21)"
   ]
  },
  {
   "cell_type": "code",
   "execution_count": 3,
   "id": "ababad7e-cd00-41f4-adb9-2fd498ea1983",
   "metadata": {},
   "outputs": [],
   "source": [
    "#def get import glob\n",
    "#glob.glob('/badc/cmip6/data/CMIP6/*/*/UKESM1-0-LL/ssp*/*/*/co2mass/*/latest/')"
   ]
  },
  {
   "cell_type": "code",
   "execution_count": null,
   "id": "dee06a4f-13a3-4938-b5fd-d6c35ed21db0",
   "metadata": {},
   "outputs": [],
   "source": []
  }
 ],
 "metadata": {
  "kernelspec": {
   "display_name": "main",
   "language": "python",
   "name": "main"
  },
  "language_info": {
   "codemirror_mode": {
    "name": "ipython",
    "version": 3
   },
   "file_extension": ".py",
   "mimetype": "text/x-python",
   "name": "python",
   "nbconvert_exporter": "python",
   "pygments_lexer": "ipython3",
   "version": "3.10.5"
  }
 },
 "nbformat": 4,
 "nbformat_minor": 5
}
