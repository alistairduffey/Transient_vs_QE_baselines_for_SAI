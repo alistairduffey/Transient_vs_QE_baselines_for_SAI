{
 "cells": [
  {
   "cell_type": "code",
   "execution_count": 5,
   "id": "a680d9ad-44ab-4895-a9fa-6eb366f29536",
   "metadata": {},
   "outputs": [],
   "source": [
    "import os\n",
    "import glob\n",
    "import iris\n",
    "import pandas as pd\n",
    "import numpy\n",
    "import logging\n",
    "import esmvalcore.preprocessor\n",
    "import xarray as xr\n",
    "import xesmf as xe\n",
    "from tqdm import tqdm\n",
    "from xmip.preprocessing import rename_cmip6\n",
    "import matplotlib.pyplot as plt"
   ]
  },
  {
   "cell_type": "code",
   "execution_count": 33,
   "id": "7343a4a9-f669-46d9-b896-9b27393321c8",
   "metadata": {},
   "outputs": [
    {
     "data": {
      "text/html": [
       "<div>\n",
       "<style scoped>\n",
       "    .dataframe tbody tr th:only-of-type {\n",
       "        vertical-align: middle;\n",
       "    }\n",
       "\n",
       "    .dataframe tbody tr th {\n",
       "        vertical-align: top;\n",
       "    }\n",
       "\n",
       "    .dataframe thead th {\n",
       "        text-align: right;\n",
       "    }\n",
       "</style>\n",
       "<table border=\"1\" class=\"dataframe\">\n",
       "  <thead>\n",
       "    <tr style=\"text-align: right;\">\n",
       "      <th></th>\n",
       "      <th>Scenario</th>\n",
       "      <th>folder</th>\n",
       "    </tr>\n",
       "  </thead>\n",
       "  <tbody>\n",
       "    <tr>\n",
       "      <th>0</th>\n",
       "      <td>abrupt-0p5xCO2</td>\n",
       "      <td>/badc/cmip6/data/CMIP6/CFMIP/IPSL/IPSL-CM6A-LR...</td>\n",
       "    </tr>\n",
       "    <tr>\n",
       "      <th>1</th>\n",
       "      <td>abrupt-2xCO2</td>\n",
       "      <td>/badc/cmip6/data/CMIP6/CFMIP/IPSL/IPSL-CM6A-LR...</td>\n",
       "    </tr>\n",
       "    <tr>\n",
       "      <th>2</th>\n",
       "      <td>abrupt-4xCO2</td>\n",
       "      <td>/badc/cmip6/data/CMIP6/CMIP/IPSL/IPSL-CM6A-LR/...</td>\n",
       "    </tr>\n",
       "    <tr>\n",
       "      <th>3</th>\n",
       "      <td>ssp245</td>\n",
       "      <td>/badc/cmip6/data/CMIP6/ScenarioMIP/IPSL/IPSL-C...</td>\n",
       "    </tr>\n",
       "    <tr>\n",
       "      <th>4</th>\n",
       "      <td>G6sulfur</td>\n",
       "      <td>/badc/cmip6/data/CMIP6/GeoMIP/IPSL/IPSL-CM6A-L...</td>\n",
       "    </tr>\n",
       "  </tbody>\n",
       "</table>\n",
       "</div>"
      ],
      "text/plain": [
       "         Scenario                                             folder\n",
       "0  abrupt-0p5xCO2  /badc/cmip6/data/CMIP6/CFMIP/IPSL/IPSL-CM6A-LR...\n",
       "1    abrupt-2xCO2  /badc/cmip6/data/CMIP6/CFMIP/IPSL/IPSL-CM6A-LR...\n",
       "2    abrupt-4xCO2  /badc/cmip6/data/CMIP6/CMIP/IPSL/IPSL-CM6A-LR/...\n",
       "3          ssp245  /badc/cmip6/data/CMIP6/ScenarioMIP/IPSL/IPSL-C...\n",
       "4        G6sulfur  /badc/cmip6/data/CMIP6/GeoMIP/IPSL/IPSL-CM6A-L..."
      ]
     },
     "execution_count": 33,
     "metadata": {},
     "output_type": "execute_result"
    }
   ],
   "source": [
    "QE_scens = ['abrupt-0p5xCO2',\n",
    "            'abrupt-2xCO2',\n",
    "            'abrupt-4xCO2']\n",
    "\n",
    "Tr_scens = ['ssp245',\n",
    "            'G6sulfur']\n",
    "\n",
    "mod = 'IPSL-CM6A-LR'\n",
    "\n",
    "\n",
    "var = 'tas'\n",
    "table = 'Amon'\n",
    "dirs = []\n",
    "\n",
    "for scen in QE_scens + Tr_scens:       \n",
    "    for x in glob.glob('/badc/cmip6/data/CMIP6/*/*/{m}/{s}/r1i*/{t}/{v}/*/latest/'.format(\n",
    "                    m=mod, s=scen, t=table, v=var)): \n",
    "        dirs.append(x)\n",
    "\n",
    "df = pd.DataFrame({'Scenario':QE_scens + Tr_scens, 'folder': dirs})\n",
    "df"
   ]
  },
  {
   "cell_type": "code",
   "execution_count": 20,
   "id": "5b5208f0-2b86-4b95-94fe-91a07c30b1b4",
   "metadata": {},
   "outputs": [
    {
     "data": {
      "text/plain": [
       "['abrupt-0p5xCO2', 'abrupt-2xCO2', 'abrupt-4xCO2', 'ssp245', 'G6sulfur']"
      ]
     },
     "execution_count": 20,
     "metadata": {},
     "output_type": "execute_result"
    }
   ],
   "source": []
  },
  {
   "cell_type": "code",
   "execution_count": null,
   "id": "08360ed1-af72-4cd9-bd92-b2f09e5d4521",
   "metadata": {},
   "outputs": [],
   "source": []
  },
  {
   "cell_type": "code",
   "execution_count": 6,
   "id": "64246aea-fe67-48c4-9bd1-987e16f88ad0",
   "metadata": {},
   "outputs": [],
   "source": [
    "folder = '/badc/cmip6/data/CMIP6/CMIP/MOHC/UKESM1-0-LL/piControl/r1i1p1f2/SImon/siconca/gr/latest/'\n"
   ]
  },
  {
   "cell_type": "code",
   "execution_count": 27,
   "id": "be3ea063-9a6f-4fa9-a820-4f472001b4b3",
   "metadata": {},
   "outputs": [
    {
     "data": {
      "text/plain": [
       "['CanESM5',\n",
       " 'IPSL-CM6A-LR',\n",
       " 'MIROC6',\n",
       " 'HadGEM3-GC31-LL',\n",
       " 'GISS-E2-1-G',\n",
       " 'GISS-E2-1-H']"
      ]
     },
     "execution_count": 27,
     "metadata": {},
     "output_type": "execute_result"
    }
   ],
   "source": [
    "### make a table showing which scens are available for model\n",
    "mod = 'UKESM1-0-LL'\n",
    "#mod = 'CESM2-WACCM'\n",
    "mod = 'IPSL-CM6A-LR'\n",
    "var = 'tas'\n",
    "table = 'Amon'\n",
    "\n",
    "\n",
    "dirs=[]\n",
    "for x in glob.glob('/badc/cmip6/data/CMIP6/*/*/*/abrupt-2xCO2/r1i*/{t}/{v}/*/latest/'.format(m=mod, t=table, v=var)): \n",
    "    dirs.append(x)\n",
    "\n",
    "\n",
    "scens = []\n",
    "for x in dirs:\n",
    "    scen = x.split('/')[7]\n",
    "    scens.append(scen)\n",
    "\n",
    "scens\n"
   ]
  },
  {
   "cell_type": "code",
   "execution_count": null,
   "id": "c39fd056-5ca3-4277-8aec-86ada62416e7",
   "metadata": {},
   "outputs": [],
   "source": []
  },
  {
   "cell_type": "code",
   "execution_count": null,
   "id": "2bb29c6e-0dbd-4541-be00-9625fea8c13a",
   "metadata": {},
   "outputs": [],
   "source": []
  },
  {
   "cell_type": "code",
   "execution_count": null,
   "id": "ee72150d-472c-48aa-b252-9e883bbe30d3",
   "metadata": {},
   "outputs": [],
   "source": []
  }
 ],
 "metadata": {
  "kernelspec": {
   "display_name": "main",
   "language": "python",
   "name": "main"
  },
  "language_info": {
   "codemirror_mode": {
    "name": "ipython",
    "version": 3
   },
   "file_extension": ".py",
   "mimetype": "text/x-python",
   "name": "python",
   "nbconvert_exporter": "python",
   "pygments_lexer": "ipython3",
   "version": "3.10.5"
  }
 },
 "nbformat": 4,
 "nbformat_minor": 5
}
