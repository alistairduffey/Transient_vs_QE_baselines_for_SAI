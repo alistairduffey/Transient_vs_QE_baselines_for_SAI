{
 "cells": [
  {
   "cell_type": "code",
   "execution_count": 18,
   "id": "c236ead8-3a8c-4d30-88f0-102b0859cafe",
   "metadata": {},
   "outputs": [],
   "source": [
    "\n",
    "\n",
    "import matplotlib.pyplot as plt\n",
    "import numpy as np\n",
    "import xarray as xr\n",
    "import os\n",
    "import glob\n",
    "import matplotlib.pyplot as plt\n",
    "import cartopy.crs as ccrs\n",
    "import cartopy.feature as cfeature\n",
    "import pandas as pd\n",
    "import iris\n",
    "import iris.quickplot as qplt\n",
    "import iris.plot as iplt\n",
    "import json\n",
    "import cftime\n",
    "from itertools import product\n",
    "from cftime import DatetimeNoLeap\n",
    "import esmvalcore.preprocessor\n",
    "import xesmf as xe\n",
    "import warnings\n",
    "%matplotlib inline\n",
    "import seaborn as sns\n",
    "from scipy import stats\n",
    "from scipy.interpolate import interp1d\n",
    "from sklearn import metrics\n",
    "import dask\n",
    "from tqdm import tqdm\n",
    "from nc_processing import calc_spatial_mean\n",
    "from mpl_axes_aligner import align\n",
    "#sns.set()\n",
    "\n",
    "from xmip.preprocessing import rename_cmip6\n",
    "import matplotlib.path as mpath\n",
    "\n",
    "def read_in(dir, ocean = False):\n",
    "    files = []\n",
    "    for x in os.listdir(dir):\n",
    "        files.append(dir + x)\n",
    "    with dask.config.set(**{'array.slicing.split_large_chunks': True}):\n",
    "        ds = rename_cmip6(xr.open_mfdataset(files, use_cftime=True, engine='netcdf4'))\n",
    "    return ds\n",
    "\n",
    "def read_in_ens_mean(dirs, ocean = False, zonal_mean=False, max_ens_members=False):\n",
    "    \"\"\" returns (1) the ensemble mean dataset, and (2) the number of ensemble members \"\"\"\n",
    "    \n",
    "    files = []\n",
    "    if max_ens_members:\n",
    "        dirs = dirs[0:max_ens_members]\n",
    "    for dir in dirs:\n",
    "        for x in os.listdir(dir):\n",
    "            if '.nc' in x:\n",
    "                files.append(dir + x)\n",
    "    with dask.config.set(**{'array.slicing.split_large_chunks': True}):\n",
    "        ds = rename_cmip6(xr.open_mfdataset(files, use_cftime=True, concat_dim='ensemble',combine='nested'))\n",
    "        n_ens = len(ds.ensemble) \n",
    "        ds = ds.mean(dim='ensemble')\n",
    "        if zonal_mean:\n",
    "            ds = ds.mean(dim='x')\n",
    "        ds['number_ens_mems_meaned'] = n_ens\n",
    "    return ds\n",
    "\n",
    "def get_gmst(ds):\n",
    "    return calc_spatial_mean(ds.tas.mean(dim=\"time\"), lon_name=\"x\", lat_name=\"y\").values\n",
    "\n",
    "def get_dirs(var, model, scenario, table='Amon'):\n",
    "    if scenario == 'ARISE':\n",
    "        dirs = glob.glob('/badc/deposited2022/arise/data/ARISE/MOHC/UKESM1-0-LL/arise-sai-1p5/*/{t}/{v}/*/*/'.format(\n",
    "            t=table, v=var))\n",
    "    else:\n",
    "        dirs = glob.glob('/badc/cmip6/data/CMIP6/*/*/{m}/{s}/*/{t}/{v}/*/latest/'.format(\n",
    "            m=model, s=scenario, t=table, v=var))\n",
    "    weird_jasmin_vars = ['rlds', 'rlus'] \n",
    "    if model == 'UKESM1-0-LL': # weird error on opening several files, perhaps corrupted?\n",
    "        if var == 'rlds':\n",
    "            dirs = dirs[0:2]\n",
    "        if var == 'rlus':\n",
    "            dirs = dirs[1:]\n",
    "    return dirs\n",
    "\n",
    "\n",
    "def get_all_vars_zonal_monthly(vars, model, scenario,\n",
    "                                min_year=\"2080\", max_year=\"2100\"):\n",
    "    ds_list = []\n",
    "    for var in tqdm(vars):\n",
    "        ds = read_in_ens_mean(get_dirs(var, model, scenario, table='Amon'),\n",
    "                              ocean=False, zonal_mean=True,\n",
    "                              max_ens_members=5)\n",
    "        ds_list.append(ds)\n",
    "    \n",
    "    DS = xr.merge(ds_list, compat='override')\n",
    "    \n",
    "    ## take an arctic spatial mean:\n",
    "    #DS = DS.sel(y=slice(min_lat, max_lat))\n",
    "    #weights = np.cos(np.deg2rad(DS.y))\n",
    "    #weights.name = \"weights\"\n",
    "    #DS_weighted = DS.weighted(weights)\n",
    "    #DS_smean = DS_weighted.mean(\"y\")\n",
    "    \n",
    "    ## take late-century monthly time-mean\n",
    "    DS_stmean = DS.sel(time=slice(min_year, max_year)).groupby(\"time.month\").mean(dim=\"time\")\n",
    "    \n",
    "    return DS_stmean\n",
    "\n",
    "def get_surface_area_north_of_lat(min_lat):\n",
    "    path = '/badc/cmip6/data/CMIP6/CMIP/MOHC/UKESM1-0-LL/piControl/r1i1p1f2/fx/areacella/gn/latest/areacella_fx_UKESM1-0-LL_piControl_r1i1p1f2_gn.nc'\n",
    "    areacella = rename_cmip6(xr.open_dataset(path))\n",
    "    out = areacella.sel(y=slice(min_lat, 90.1)).sum(dim=['x', 'y']).areacella.values*1\n",
    "    return out\n",
    "\n",
    "\n",
    "##### SETTINGS\n",
    "model = 'UKESM1-0-LL'\n",
    "scenarios = ['G6sulfur', 'ssp245', 'ssp585']#, 'ARISE']\n",
    "#min_lat, max_lat = 70, 90\n",
    "min_year_late_cent, max_year_late_cent = \"2050\", \"2070\"\n",
    "\n",
    "do_preprocess = True"
   ]
  },
  {
   "cell_type": "code",
   "execution_count": 11,
   "id": "ad99a543-a5ef-400a-a917-567549db2fb5",
   "metadata": {},
   "outputs": [],
   "source": [
    "models = ['CESM2-WACCM', 'UKESM1-0-LL',  'CNRM-ESM2-1', \n",
    "          'IPSL-CM6A-LR', 'MPI-ESM1-2-HR', 'MPI-ESM1-2-LR']\n",
    "mm_vars = ['rsds', 'tas']"
   ]
  },
  {
   "cell_type": "code",
   "execution_count": null,
   "id": "e476c9b9-e83f-4699-a1b0-a8ed511fc7c6",
   "metadata": {},
   "outputs": [
    {
     "name": "stdout",
     "output_type": "stream",
     "text": [
      "ssp245\n",
      "CESM2-WACCM\n"
     ]
    },
    {
     "name": "stderr",
     "output_type": "stream",
     "text": [
      "  0%|          | 0/2 [00:00<?, ?it/s]/home/users/a_duffey/.conda/envs/main/lib/python3.10/site-packages/xarray/conventions.py:516: SerializationWarning: variable 'rsds' has multiple fill values {1e+20, 1e+20}, decoding all values to NaN.\n",
      "  new_vars[k] = decode_cf_variable(\n",
      " 50%|█████     | 1/2 [00:03<00:03,  3.29s/it]/home/users/a_duffey/.conda/envs/main/lib/python3.10/site-packages/xarray/conventions.py:516: SerializationWarning: variable 'tas' has multiple fill values {1e+20, 1e+20}, decoding all values to NaN.\n",
      "  new_vars[k] = decode_cf_variable(\n",
      "100%|██████████| 2/2 [00:06<00:00,  3.26s/it]\n"
     ]
    },
    {
     "name": "stdout",
     "output_type": "stream",
     "text": [
      "UKESM1-0-LL\n"
     ]
    },
    {
     "name": "stderr",
     "output_type": "stream",
     "text": [
      "100%|██████████| 2/2 [00:08<00:00,  4.13s/it]\n"
     ]
    },
    {
     "name": "stdout",
     "output_type": "stream",
     "text": [
      "CNRM-ESM2-1\n"
     ]
    },
    {
     "name": "stderr",
     "output_type": "stream",
     "text": [
      "100%|██████████| 2/2 [00:04<00:00,  2.45s/it]\n"
     ]
    },
    {
     "name": "stdout",
     "output_type": "stream",
     "text": [
      "IPSL-CM6A-LR\n"
     ]
    },
    {
     "name": "stderr",
     "output_type": "stream",
     "text": [
      "100%|██████████| 2/2 [00:05<00:00,  2.70s/it]\n"
     ]
    },
    {
     "name": "stdout",
     "output_type": "stream",
     "text": [
      "MPI-ESM1-2-HR\n"
     ]
    },
    {
     "name": "stderr",
     "output_type": "stream",
     "text": [
      "100%|██████████| 2/2 [00:14<00:00,  7.04s/it]\n"
     ]
    },
    {
     "name": "stdout",
     "output_type": "stream",
     "text": [
      "MPI-ESM1-2-LR\n"
     ]
    },
    {
     "name": "stderr",
     "output_type": "stream",
     "text": [
      "100%|██████████| 2/2 [00:11<00:00,  5.57s/it]\n"
     ]
    },
    {
     "name": "stdout",
     "output_type": "stream",
     "text": [
      "ssp585\n",
      "CESM2-WACCM\n"
     ]
    },
    {
     "name": "stderr",
     "output_type": "stream",
     "text": [
      "  0%|          | 0/2 [00:00<?, ?it/s]/home/users/a_duffey/.conda/envs/main/lib/python3.10/site-packages/xarray/conventions.py:516: SerializationWarning: variable 'rsds' has multiple fill values {1e+20, 1e+20}, decoding all values to NaN.\n",
      "  new_vars[k] = decode_cf_variable(\n",
      " 50%|█████     | 1/2 [00:06<00:06,  6.47s/it]/home/users/a_duffey/.conda/envs/main/lib/python3.10/site-packages/xarray/conventions.py:516: SerializationWarning: variable 'tas' has multiple fill values {1e+20, 1e+20}, decoding all values to NaN.\n",
      "  new_vars[k] = decode_cf_variable(\n",
      "100%|██████████| 2/2 [00:10<00:00,  5.46s/it]\n"
     ]
    },
    {
     "name": "stdout",
     "output_type": "stream",
     "text": [
      "UKESM1-0-LL\n"
     ]
    },
    {
     "name": "stderr",
     "output_type": "stream",
     "text": [
      "100%|██████████| 2/2 [00:11<00:00,  5.69s/it]\n"
     ]
    },
    {
     "name": "stdout",
     "output_type": "stream",
     "text": [
      "CNRM-ESM2-1\n"
     ]
    },
    {
     "name": "stderr",
     "output_type": "stream",
     "text": [
      "100%|██████████| 2/2 [00:05<00:00,  2.64s/it]\n"
     ]
    },
    {
     "name": "stdout",
     "output_type": "stream",
     "text": [
      "IPSL-CM6A-LR\n"
     ]
    },
    {
     "name": "stderr",
     "output_type": "stream",
     "text": [
      "100%|██████████| 2/2 [00:19<00:00,  9.87s/it]\n"
     ]
    }
   ],
   "source": [
    "\n",
    "if do_preprocess:\n",
    "    for scen in scenarios:\n",
    "        print(scen)\n",
    "        ds_list = []\n",
    "        for model in models:\n",
    "            print(model)\n",
    "            ds = get_all_vars_zonal_monthly(vars=mm_vars, model=model,\n",
    "                                              scenario=scen,\n",
    "                                              min_year=min_year_late_cent, max_year=max_year_late_cent)\n",
    "            ds = ds.compute()\n",
    "            ds['Model'] = model\n",
    "           \n",
    "            ds.to_netcdf('Preprocessed_data/rsds/{s}_{m}.nc'.format(\n",
    "            s=scen, m=model))\n"
   ]
  },
  {
   "cell_type": "code",
   "execution_count": null,
   "id": "4a966571-f7a8-479e-8b4a-2293d65e99d1",
   "metadata": {},
   "outputs": [],
   "source": []
  },
  {
   "cell_type": "code",
   "execution_count": null,
   "id": "ad9741bc-9000-41ea-9b27-7ef1cf67ea46",
   "metadata": {},
   "outputs": [],
   "source": [
    "## now plot straight from .nc files:\n",
    "\n",
    "plot_dict = {0:'ssp585-ssp245',\n",
    "             1:'G6sulfur-ssp585',\n",
    "             2:'G6sulfur-ssp245'}\n",
    "\n",
    "\n",
    "fig, axs = plt.subplots(1, len(ds_dict), figsize = (20, 6), sharey=True)\n",
    "\n",
    "i=0\n",
    "for title in ds_dict:\n",
    "    ds_to_plot = ds_dict[title].mean(dim='month')\n",
    "    \n",
    "    ax = axs[i]\n",
    "    \n",
    "    ax.plot(ds_to_plot.y.values, ds_to_plot.Q.values, label='AHT convergence')\n",
    "    ax.plot(ds_to_plot.y.values, ds_to_plot.rsds.values, label='rsds')\n",
    "    ax.plot(ds_to_plot.y.values, ds_to_plot.rsdscs.values, label='rsdscs')\n",
    "    #ax.plot(ds_to_plot.y.values, ds_to_plot.rlus.values - ds_to_plot.rlut.values, label='rlus-rlut')\n",
    "    \n",
    "    ax.axhline(0, ls='--', color='gray')\n",
    "    ax.legend()\n",
    "    ax.set_xlim(-90, 90)\n",
    "    ax.set_title(title)\n",
    "    i=i+1\n",
    "    plt.savefig('Figures/zonal_energy_budget/eg1_multi_scen.png', dpi=350)"
   ]
  },
  {
   "cell_type": "code",
   "execution_count": null,
   "id": "3be997b7-f371-4e87-9631-a4465e38e3bf",
   "metadata": {},
   "outputs": [],
   "source": []
  },
  {
   "cell_type": "code",
   "execution_count": null,
   "id": "9a7047b0-58aa-461d-9918-47e199ed4fae",
   "metadata": {},
   "outputs": [],
   "source": []
  },
  {
   "cell_type": "code",
   "execution_count": null,
   "id": "8db23eb1-2553-463a-8dfa-d585cc534236",
   "metadata": {},
   "outputs": [],
   "source": []
  },
  {
   "cell_type": "code",
   "execution_count": null,
   "id": "c2b78cc8-ed6c-48b2-8799-e8d2b123c6ea",
   "metadata": {},
   "outputs": [],
   "source": [
    "## now read in to my ds's\n",
    "ds_g6sulfur = xr.open_dataset('Preprocessed_data/zonal_energy_budget/{s}_{m}.nc'.format(\n",
    "        s='G6sulfur', m=model))\n",
    "ds_g6solar = xr.open_dataset('Preprocessed_data/zonal_energy_budget/{s}_{m}.nc'.format(\n",
    "        s='G6solar', m=model))\n",
    "ds_ssp245 = xr.open_dataset('Preprocessed_data/zonal_energy_budget/{s}_{m}.nc'.format(\n",
    "        s='ssp245', m=model))\n",
    "ds_ssp585 = xr.open_dataset('Preprocessed_data/zonal_energy_budget/{s}_{m}.nc'.format(\n",
    "        s='ssp585', m=model))\n"
   ]
  },
  {
   "cell_type": "code",
   "execution_count": 16,
   "id": "d78e06d4-481c-4c7e-8e40-d416f777dc8f",
   "metadata": {},
   "outputs": [
    {
     "data": {
      "text/plain": [
       "[<xarray.Dataset>\n",
       " Dimensions:                 (y: 192, month: 12, nbnd: 2)\n",
       " Coordinates:\n",
       "   * y                       (y) float64 -90.0 -89.06 -88.12 ... 88.12 89.06 90.0\n",
       "   * month                   (month) int64 1 2 3 4 5 6 7 8 9 10 11 12\n",
       " Dimensions without coordinates: nbnd\n",
       " Data variables:\n",
       "     rsds                    (month, y) float32 363.7 361.9 361.5 ... 0.0 0.0 0.0\n",
       "     lat_bounds              (month, y, nbnd) float64 -90.0 -89.53 ... 89.53 90.0\n",
       "     lon_bounds              (month, nbnd) float64 178.8 180.0 ... 178.8 180.0\n",
       "     number_ens_mems_meaned  (month) float64 4.0 4.0 4.0 4.0 ... 4.0 4.0 4.0 4.0\n",
       "     tas                     (month, y) float32 249.1 248.9 249.2 ... 254.2 254.2\n",
       "     Model                   <U11 'CESM2-WACCM',\n",
       " <xarray.Dataset>\n",
       " Dimensions:                 (y: 144, month: 12, bnds: 2)\n",
       " Coordinates:\n",
       "   * y                       (y) float64 -89.38 -88.12 -86.88 ... 88.12 89.38\n",
       "   * month                   (month) int64 1 2 3 4 5 6 7 8 9 10 11 12\n",
       " Dimensions without coordinates: bnds\n",
       " Data variables:\n",
       "     lat_bounds              (month, y, bnds) float64 -90.0 -88.75 ... 88.75 90.0\n",
       "     lon_bounds              (month, bnds) float64 179.1 180.9 ... 179.1 180.9\n",
       "     rsds                    (month, y) float32 390.4 388.9 388.1 ... 0.0 0.0 0.0\n",
       "     number_ens_mems_meaned  (month) float64 6.0 6.0 6.0 6.0 ... 6.0 6.0 6.0 6.0\n",
       "     height                  (month) float64 1.5 1.5 1.5 1.5 ... 1.5 1.5 1.5 1.5\n",
       "     tas                     (month, y) float32 251.0 251.6 252.4 ... 262.4 262.4\n",
       "     Model                   <U11 'UKESM1-0-LL',\n",
       " <xarray.Dataset>\n",
       " Dimensions:                 (y: 128, month: 12)\n",
       " Coordinates:\n",
       "   * y                       (y) float64 -88.93 -87.54 -86.14 ... 87.54 88.93\n",
       "   * month                   (month) int64 1 2 3 4 5 6 7 8 9 10 11 12\n",
       " Data variables:\n",
       "     rsds                    (month, y) float32 385.7 383.5 379.3 ... 0.0 0.0 0.0\n",
       "     number_ens_mems_meaned  (month) float64 3.0 3.0 3.0 3.0 ... 3.0 3.0 3.0 3.0\n",
       "     height                  (month) float64 2.0 2.0 2.0 2.0 ... 2.0 2.0 2.0 2.0\n",
       "     tas                     (month, y) float32 246.6 248.2 251.4 ... 252.8 252.7\n",
       "     Model                   <U11 'CNRM-ESM2-1',\n",
       " <xarray.Dataset>\n",
       " Dimensions:                 (y: 143, month: 12)\n",
       " Coordinates:\n",
       "   * y                       (y) float32 -90.0 -88.73 -87.46 ... 87.46 88.73 90.0\n",
       "   * month                   (month) int64 1 2 3 4 5 6 7 8 9 10 11 12\n",
       " Data variables:\n",
       "     rsds                    (month, y) float32 397.9 390.5 386.8 ... 0.0 0.0 0.0\n",
       "     number_ens_mems_meaned  (month) float64 1.0 1.0 1.0 1.0 ... 1.0 1.0 1.0 1.0\n",
       "     height                  (month) float64 2.0 2.0 2.0 2.0 ... 2.0 2.0 2.0 2.0\n",
       "     tas                     (month, y) float32 246.7 247.1 248.2 ... 263.3 263.0\n",
       "     Model                   <U12 'IPSL-CM6A-LR',\n",
       " <xarray.Dataset>\n",
       " Dimensions:                 (y: 192, month: 12, bnds: 2)\n",
       " Coordinates:\n",
       "   * y                       (y) float64 -89.28 -88.36 -87.42 ... 88.36 89.28\n",
       "   * month                   (month) int64 1 2 3 4 5 6 7 8 9 10 11 12\n",
       " Dimensions without coordinates: bnds\n",
       " Data variables:\n",
       "     lat_bounds              (month, y, bnds) float64 -89.75 -88.82 ... 89.75\n",
       "     lon_bounds              (month, bnds) float64 179.1 180.0 ... 179.1 180.0\n",
       "     rsds                    (month, y) float32 378.7 381.8 ... 2.772e-11\n",
       "     number_ens_mems_meaned  (month) float64 48.0 48.0 48.0 ... 48.0 48.0 48.0\n",
       "     height                  (month) float64 2.0 2.0 2.0 2.0 ... 2.0 2.0 2.0 2.0\n",
       "     tas                     (month, y) float32 245.6 246.1 246.8 ... 254.3 254.3\n",
       "     Model                   <U13 'MPI-ESM1-2-HR',\n",
       " <xarray.Dataset>\n",
       " Dimensions:                 (y: 96, month: 12, bnds: 2)\n",
       " Coordinates:\n",
       "   * y                       (y) float64 -88.57 -86.72 -84.86 ... 86.72 88.57\n",
       "   * month                   (month) int64 1 2 3 4 5 6 7 8 9 10 11 12\n",
       " Dimensions without coordinates: bnds\n",
       " Data variables:\n",
       "     lat_bounds              (month, y, bnds) float64 -89.5 -87.65 ... 87.65 89.5\n",
       "     lon_bounds              (month, bnds) float64 178.1 180.0 ... 178.1 180.0\n",
       "     rsds                    (month, y) float32 393.3 385.8 ... -4.263e-05\n",
       "     number_ens_mems_meaned  (month) float64 15.0 15.0 15.0 ... 15.0 15.0 15.0\n",
       "     height                  (month) float64 2.0 2.0 2.0 2.0 ... 2.0 2.0 2.0 2.0\n",
       "     tas                     (month, y) float32 244.4 247.6 251.0 ... 257.4 257.4\n",
       "     Model                   <U13 'MPI-ESM1-2-LR']"
      ]
     },
     "execution_count": 16,
     "metadata": {},
     "output_type": "execute_result"
    }
   ],
   "source": [
    "ds_list"
   ]
  },
  {
   "cell_type": "code",
   "execution_count": null,
   "id": "5b258582-8ec0-4093-b94e-f87ebf35f4a9",
   "metadata": {},
   "outputs": [],
   "source": []
  },
  {
   "cell_type": "code",
   "execution_count": null,
   "id": "37ebf3e9-cc8d-4df0-bba1-6e408eb204b9",
   "metadata": {},
   "outputs": [],
   "source": []
  }
 ],
 "metadata": {
  "kernelspec": {
   "display_name": "main",
   "language": "python",
   "name": "main"
  },
  "language_info": {
   "codemirror_mode": {
    "name": "ipython",
    "version": 3
   },
   "file_extension": ".py",
   "mimetype": "text/x-python",
   "name": "python",
   "nbconvert_exporter": "python",
   "pygments_lexer": "ipython3",
   "version": "3.10.5"
  }
 },
 "nbformat": 4,
 "nbformat_minor": 5
}
